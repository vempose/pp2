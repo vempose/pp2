{
 "cells": [
  {
   "cell_type": "markdown",
   "metadata": {},
   "source": [
    "1. Write a Python program with builtin function to multiply all the numbers in a list"
   ]
  },
  {
   "cell_type": "code",
   "execution_count": null,
   "metadata": {},
   "outputs": [],
   "source": [
    "from math import prod\n",
    "\n",
    "\n",
    "nums = [1, 4, 5, 42, 54, 8, 11]\n",
    "\n",
    "# Multiply each element by certain number from input\n",
    "multiplier = int(input(\"What number do we multiply everything by? \"))\n",
    "print(list(map(lambda x: x*multiplier, nums)))\n",
    "\n",
    "# Or we just multiply all the elements with each other\n",
    "print(prod(nums))"
   ]
  },
  {
   "cell_type": "markdown",
   "metadata": {},
   "source": [
    "2. Write a Python program with builtin function that accepts a string and calculate the number of upper case letters and lower case letters"
   ]
  },
  {
   "cell_type": "code",
   "execution_count": null,
   "metadata": {},
   "outputs": [],
   "source": [
    "text = \"Angel Adept Blind Bodice Clique Coast Dunce Docile Enact Eosin Furlong Focal Gnome\"\n",
    "print(\"Uppercase letters:\", sum(map(str.isupper, text)))\n",
    "print(\"Lowercase letters:\", sum(map(str.islower, text)))"
   ]
  },
  {
   "cell_type": "markdown",
   "metadata": {},
   "source": [
    "3. Write a Python program with builtin function that checks whether a passed string is palindrome or not"
   ]
  },
  {
   "cell_type": "code",
   "execution_count": null,
   "metadata": {},
   "outputs": [],
   "source": [
    "def is_palindrome(s: str) -> bool:\n",
    "    cut = len(s) // 2\n",
    "    return s[:cut] == s[::-1][:cut]\n",
    "\n",
    "\n",
    "word = input(\"Enter the word you want to check to see if it is a palindrome: \")\n",
    "print(is_palindrome(word))"
   ]
  },
  {
   "cell_type": "markdown",
   "metadata": {},
   "source": [
    "4. Write a Python program that invoke square root function after specific milliseconds"
   ]
  },
  {
   "cell_type": "code",
   "execution_count": null,
   "metadata": {},
   "outputs": [],
   "source": [
    "from time import sleep\n",
    "from math import sqrt\n",
    "\n",
    "\n",
    "num = int(input(\"Enter the number whose square root you want to calculate: \"))\n",
    "waiting_time = int(input(\"How many milliseconds to wait? \"))\n",
    "\n",
    "sleep(waiting_time / 1000) # 1s = 1000ms\n",
    "print(f\"Square root of {num} after {waiting_time} miliseconds is {sqrt(num)}\")"
   ]
  },
  {
   "cell_type": "markdown",
   "metadata": {},
   "source": [
    "5. Write a Python program with builtin function that returns True if all elements of the tuple are true"
   ]
  },
  {
   "cell_type": "code",
   "execution_count": null,
   "metadata": {},
   "outputs": [],
   "source": [
    "nums = (1, 2, 0, 4, 5)\n",
    "print(all(nums))"
   ]
  }
 ],
 "metadata": {
  "kernelspec": {
   "display_name": "Python 3",
   "language": "python",
   "name": "python3"
  },
  "language_info": {
   "codemirror_mode": {
    "name": "ipython",
    "version": 3
   },
   "file_extension": ".py",
   "mimetype": "text/x-python",
   "name": "python",
   "nbconvert_exporter": "python",
   "pygments_lexer": "ipython3",
   "version": "3.13.1"
  }
 },
 "nbformat": 4,
 "nbformat_minor": 2
}
