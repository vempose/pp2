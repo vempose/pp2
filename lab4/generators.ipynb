{
 "cells": [
  {
   "cell_type": "markdown",
   "metadata": {},
   "source": [
    "## Task 1"
   ]
  },
  {
   "cell_type": "markdown",
   "metadata": {},
   "source": [
    "Squares of numbers"
   ]
  },
  {
   "cell_type": "code",
   "execution_count": null,
   "metadata": {},
   "outputs": [],
   "source": [
    "def squares(stop: int, start: int=1):\n",
    "    while start <= stop:\n",
    "        yield start ** 2\n",
    "        start += 1\n",
    "\n",
    "\n",
    "for num in squares(5):\n",
    "    print(num)"
   ]
  },
  {
   "cell_type": "markdown",
   "metadata": {},
   "source": [
    "## Task 2"
   ]
  },
  {
   "cell_type": "markdown",
   "metadata": {},
   "source": [
    "Even numbers"
   ]
  },
  {
   "cell_type": "code",
   "execution_count": null,
   "metadata": {},
   "outputs": [],
   "source": [
    "def even_numbers(stop: int):\n",
    "    start = 0\n",
    "    while start <= stop:\n",
    "        yield start\n",
    "        start += 2\n",
    "\n",
    "\n",
    "n = int(input(\"How much even numbers do you need? \"))\n",
    "for num in even_numbers(n):\n",
    "    print(num, end=\", \")"
   ]
  },
  {
   "cell_type": "markdown",
   "metadata": {},
   "source": [
    "## Task 3"
   ]
  },
  {
   "cell_type": "markdown",
   "metadata": {},
   "source": [
    "Numbers, which are divisible by 3 and 4"
   ]
  },
  {
   "cell_type": "code",
   "execution_count": null,
   "metadata": {},
   "outputs": [],
   "source": [
    "def some_numbers(stop: int):\n",
    "    start = 0\n",
    "    while start <= stop:\n",
    "        if start % 3 == 0 and start % 4 == 0:\n",
    "            yield start\n",
    "        start += 1\n",
    "\n",
    "\n",
    "for num in some_numbers(100):\n",
    "    print(num)"
   ]
  },
  {
   "cell_type": "markdown",
   "metadata": {},
   "source": [
    "## Task 4"
   ]
  },
  {
   "cell_type": "markdown",
   "metadata": {},
   "source": [
    "Squares"
   ]
  },
  {
   "cell_type": "code",
   "execution_count": null,
   "metadata": {},
   "outputs": [],
   "source": [
    "def squares(a: int, b: int):\n",
    "    while a <= b:\n",
    "        yield a ** 2\n",
    "        a += 1\n",
    "\n",
    "\n",
    "for num in squares(1, 10):\n",
    "    print(num)"
   ]
  },
  {
   "cell_type": "markdown",
   "metadata": {},
   "source": [
    "## Task 5"
   ]
  },
  {
   "cell_type": "markdown",
   "metadata": {},
   "source": [
    "Numbers down to 0"
   ]
  },
  {
   "cell_type": "code",
   "execution_count": null,
   "metadata": {},
   "outputs": [],
   "source": [
    "def go_down_from(start: int):\n",
    "    while start >= 0:\n",
    "        yield start\n",
    "        start -= 1\n",
    "\n",
    "\n",
    "for num in go_down_from(10):\n",
    "    print(num)"
   ]
  }
 ],
 "metadata": {
  "kernelspec": {
   "display_name": "Python 3",
   "language": "python",
   "name": "python3"
  },
  "language_info": {
   "codemirror_mode": {
    "name": "ipython",
    "version": 3
   },
   "file_extension": ".py",
   "mimetype": "text/x-python",
   "name": "python",
   "nbconvert_exporter": "python",
   "pygments_lexer": "ipython3",
   "version": "3.13.1"
  }
 },
 "nbformat": 4,
 "nbformat_minor": 2
}
